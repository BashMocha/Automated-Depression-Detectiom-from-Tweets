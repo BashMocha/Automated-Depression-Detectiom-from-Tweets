{
 "cells": [
  {
   "cell_type": "code",
   "execution_count": 40,
   "id": "a8644043-1c67-490f-8c63-38290d752d1c",
   "metadata": {},
   "outputs": [],
   "source": [
    "import re\n",
    "import pandas as pd\n",
    "import numpy as np\n",
    "import contractions\n",
    "import emoji \n",
    "from transformers import BertTokenizer"
   ]
  },
  {
   "cell_type": "code",
   "execution_count": 12,
   "id": "7dc74b21-8eda-4e01-9248-a9b3dc982881",
   "metadata": {},
   "outputs": [
    {
     "data": {
      "text/html": [
       "<div>\n",
       "<style scoped>\n",
       "    .dataframe tbody tr th:only-of-type {\n",
       "        vertical-align: middle;\n",
       "    }\n",
       "\n",
       "    .dataframe tbody tr th {\n",
       "        vertical-align: top;\n",
       "    }\n",
       "\n",
       "    .dataframe thead th {\n",
       "        text-align: right;\n",
       "    }\n",
       "</style>\n",
       "<table border=\"1\" class=\"dataframe\">\n",
       "  <thead>\n",
       "    <tr style=\"text-align: right;\">\n",
       "      <th></th>\n",
       "      <th>Unnamed: 0</th>\n",
       "      <th>vader_sentiment_label</th>\n",
       "      <th>vader_score</th>\n",
       "      <th>clean_tweet</th>\n",
       "    </tr>\n",
       "  </thead>\n",
       "  <tbody>\n",
       "    <tr>\n",
       "      <th>0</th>\n",
       "      <td>0</td>\n",
       "      <td>0</td>\n",
       "      <td>-0.4122</td>\n",
       "      <td>Wow, dad yday: “you don’t take stupid depressi...</td>\n",
       "    </tr>\n",
       "    <tr>\n",
       "      <th>1</th>\n",
       "      <td>1</td>\n",
       "      <td>0</td>\n",
       "      <td>-0.8074</td>\n",
       "      <td>part really harmfult lot people went every gui...</td>\n",
       "    </tr>\n",
       "    <tr>\n",
       "      <th>2</th>\n",
       "      <td>2</td>\n",
       "      <td>1</td>\n",
       "      <td>0.3382</td>\n",
       "      <td>one ways I got #depression learning dance rain...</td>\n",
       "    </tr>\n",
       "    <tr>\n",
       "      <th>3</th>\n",
       "      <td>3</td>\n",
       "      <td>0</td>\n",
       "      <td>-0.4588</td>\n",
       "      <td>see wanna one say PTSD, depression, and/or anx...</td>\n",
       "    </tr>\n",
       "    <tr>\n",
       "      <th>4</th>\n",
       "      <td>4</td>\n",
       "      <td>0</td>\n",
       "      <td>-0.8316</td>\n",
       "      <td>IS IT clinical depression palpable hopelessnes...</td>\n",
       "    </tr>\n",
       "  </tbody>\n",
       "</table>\n",
       "</div>"
      ],
      "text/plain": [
       "   Unnamed: 0  vader_sentiment_label  vader_score  \\\n",
       "0           0                      0      -0.4122   \n",
       "1           1                      0      -0.8074   \n",
       "2           2                      1       0.3382   \n",
       "3           3                      0      -0.4588   \n",
       "4           4                      0      -0.8316   \n",
       "\n",
       "                                         clean_tweet  \n",
       "0  Wow, dad yday: “you don’t take stupid depressi...  \n",
       "1  part really harmfult lot people went every gui...  \n",
       "2  one ways I got #depression learning dance rain...  \n",
       "3  see wanna one say PTSD, depression, and/or anx...  \n",
       "4  IS IT clinical depression palpable hopelessnes...  "
      ]
     },
     "execution_count": 12,
     "metadata": {},
     "output_type": "execute_result"
    }
   ],
   "source": [
    "df = pd.read_csv('data/vader_processed_final.csv')\n",
    "df.head()"
   ]
  },
  {
   "cell_type": "code",
   "execution_count": 13,
   "id": "66e777bc-2755-48a9-8e55-9fde455869f1",
   "metadata": {},
   "outputs": [
    {
     "name": "stdout",
     "output_type": "stream",
     "text": [
      "<class 'pandas.core.frame.DataFrame'>\n",
      "RangeIndex: 24862 entries, 0 to 24861\n",
      "Data columns (total 4 columns):\n",
      " #   Column                 Non-Null Count  Dtype  \n",
      "---  ------                 --------------  -----  \n",
      " 0   Unnamed: 0             24862 non-null  int64  \n",
      " 1   vader_sentiment_label  24862 non-null  int64  \n",
      " 2   vader_score            24862 non-null  float64\n",
      " 3   clean_tweet            24862 non-null  object \n",
      "dtypes: float64(1), int64(2), object(1)\n",
      "memory usage: 777.1+ KB\n"
     ]
    }
   ],
   "source": [
    "df.info()"
   ]
  },
  {
   "cell_type": "markdown",
   "id": "142e8161-1a11-4bde-9882-664a49026e62",
   "metadata": {},
   "source": [
    "### Couple of things I noticed after the examination of the trimmed data:\n",
    "1) Most of the tweets contain hashtags, emojis, numbers, and symbols.\n",
    "2) Some of the punctiation marks are repetitive (i.e. '!!' or '??'). These marks could be valuable.\n",
    "3) There are non-English tweets.\n",
    "4) Most of the tweets contain tagged users (i.e. '@elon'). A column named 'mentions' in the original copy of the dataset provides the tagged users in the tweet however, not all of them appear in the column.\n",
    "5) Some of the tweets contain links and hardcoded pictures (i.e. 'pic.twitter.com/tBhxLdatP8'). "
   ]
  },
  {
   "cell_type": "markdown",
   "id": "cfa538ef-9cde-4d70-97b1-b9247bcfac0b",
   "metadata": {},
   "source": [
    "### Some valuable attributes will be saved for later use:\n",
    "#### These attributes represent tweet's characteristic features. \n",
    "- Swearing or offensive word(s) [Boolean]\n",
    "- Tweet length [Integer] => this column will be calculated after removing links.\n",
    "- Emoji [Boolean]\n",
    "- URL/Link [Boolean]"
   ]
  },
  {
   "cell_type": "code",
   "execution_count": 34,
   "id": "aae32fe3-3dbf-4d03-b3f4-e6b0274e86f7",
   "metadata": {},
   "outputs": [],
   "source": [
    "df_attributes = df.copy()\n",
    "\n",
    "def check_url_link(tweet):\n",
    "    sentence = tweet.split(' ')\n",
    "    for word in sentence:\n",
    "        if word.startswith('https:') or word.startswith('http:'): \n",
    "            return 1\n",
    "    return 0\n",
    "\n",
    "def check_emoji(tweet):\n",
    "    sentence = tweet.split(' ')\n",
    "    for word in sentence:\n",
    "        if emoji.is_emoji(word):\n",
    "            return 1\n",
    "    return 0\n",
    "\n",
    "def get_tweet_length(tweet):\n",
    "    return len(tweet)\n",
    "\n",
    "def check_offensive_word(tweet):\n",
    "    ...\n",
    "\n",
    "    \n",
    "df_attributes['no_link'] = df_attributes['clean_tweet'].apply(remove_url)\n",
    "df_attributes['url_link']\n",
    "#df_attributes.head()\n",
    "#df_attributes.to_csv('temp.csv')"
   ]
  },
  {
   "cell_type": "code",
   "execution_count": null,
   "id": "b3628051-94fe-44fb-b252-53e7c3e2f27c",
   "metadata": {},
   "outputs": [],
   "source": []
  }
 ],
 "metadata": {
  "kernelspec": {
   "display_name": "Python 3 (ipykernel)",
   "language": "python",
   "name": "python3"
  },
  "language_info": {
   "codemirror_mode": {
    "name": "ipython",
    "version": 3
   },
   "file_extension": ".py",
   "mimetype": "text/x-python",
   "name": "python",
   "nbconvert_exporter": "python",
   "pygments_lexer": "ipython3",
   "version": "3.10.12"
  }
 },
 "nbformat": 4,
 "nbformat_minor": 5
}
